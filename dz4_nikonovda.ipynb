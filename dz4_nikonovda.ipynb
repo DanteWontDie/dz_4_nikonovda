{
 "cells": [
  {
   "cell_type": "markdown",
   "id": "71ec151e-706b-49fa-b659-9f912722b367",
   "metadata": {},
   "source": [
    "Домашнее задание 4. Работа с файлами и пакетами"
   ]
  },
  {
   "cell_type": "markdown",
   "id": "60ff5c6d-1a8e-4d19-94b7-607b69acaf2f",
   "metadata": {},
   "source": [
    "Задание 1. \n",
    "Переведите содержимое файла purchase_log.txt в словарь purchases вида:\n",
    "{'1840e0b9d4': 'Продукты', ...}\n",
    "Пример работы программы при выводе первых двух элементов словаря\n",
    "purchases:\n",
    "1840e0b9d4 ‘Продукты‘\n",
    "4e4f90fcfb ‘Электроника‘"
   ]
  },
  {
   "cell_type": "markdown",
   "id": "3be275f6-6ace-459d-b01e-5e5f99975c84",
   "metadata": {},
   "source": [
    "Файл содержит строки вида:\n",
    "{\"user_id\": \"4e4f90fcfb\", \"category\": \"Электроника\"}\n",
    "{\"user_id\": \"afea8d72fc\", \"category\": \"Электроника\"}\n",
    "{\"user_id\": \"373a6055fe\", \"category\": \"Бытовая техника\"}"
   ]
  },
  {
   "cell_type": "code",
   "execution_count": 34,
   "id": "843f97ea-74f1-479d-8930-3633bd83f309",
   "metadata": {},
   "outputs": [
    {
     "name": "stdout",
     "output_type": "stream",
     "text": [
      "Первые 10 записей из purchases:\n",
      "user_id, category\n",
      "Продукты, 1840e0b9d4\n",
      "4e4f90fcfb, Электроника\n",
      "afea8d72fc, Электроника\n",
      "373a6055fe, Бытовая техника\n",
      "9b2ab046f3, Электроника\n",
      "9f39d307c3, Электроника\n",
      "44edeffc91, Продукты\n",
      "704474fa2d, Продукты\n",
      "1de31be403, Бытовая техника\n",
      "b71f36a5e4, Продукты\n"
     ]
    }
   ],
   "source": [
    "purchases = {} # Инициализируем пустой словарь для хранения покупок\n",
    "\n",
    "# Открываем файл purchase_log.txt и форматируем по условию\n",
    "with open('./purchase_log.txt', 'r', encoding='utf-8') as file:\n",
    "    for line in file:  # Пробегаемся по строкам в файле\n",
    "        line = line.strip()  # Убираем пробелы и символы новой строки\n",
    "        line = line.replace('{', '').replace('}', '').replace('\"', '')  # Убираем фигурные скобки и кавычки\n",
    "        parts = line.split(', ') # Разделяем строку по запятой и пробелу\n",
    "        user_id = parts[0].split(': ')[1]  # Получаем user_id\n",
    "        category = parts[1].split(': ')[1]  # Получаем category\n",
    "        purchases[user_id] = category # Добавляем в словарь по user_id\n",
    "\n",
    "# Записываем весь результат в файл result.txt (ибо есть ограничения ввода ввывода JN)\n",
    "with open('result.txt', 'w', encoding='utf-8') as result_file:\n",
    "    for key, value in purchases.items():\n",
    "        result_file.write(f\"{key}, {value}\\n\")  # Записываем в формате id, категория\n",
    "\n",
    "# Выводим первые 10 записей в консоль\n",
    "print(\"Первые 10 записей из purchases:\")\n",
    "for i, (key, value) in enumerate(purchases.items()):\n",
    "    if i < 11: # 11 - потому что \"user_id, category\" тоже строка\n",
    "        print(f\"{key}, {value}\")  # Выводим в формате id, категория\n",
    "    else:\n",
    "        break\n"
   ]
  },
  {
   "cell_type": "code",
   "execution_count": null,
   "id": "9a992708-1d55-4d78-b94e-1c9c11a3194d",
   "metadata": {},
   "outputs": [],
   "source": []
  }
 ],
 "metadata": {
  "kernelspec": {
   "display_name": "Python 3 (ipykernel)",
   "language": "python",
   "name": "python3"
  },
  "language_info": {
   "codemirror_mode": {
    "name": "ipython",
    "version": 3
   },
   "file_extension": ".py",
   "mimetype": "text/x-python",
   "name": "python",
   "nbconvert_exporter": "python",
   "pygments_lexer": "ipython3",
   "version": "3.12.7"
  }
 },
 "nbformat": 4,
 "nbformat_minor": 5
}
